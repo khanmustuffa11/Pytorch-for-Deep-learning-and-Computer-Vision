{
 "cells": [
  {
   "cell_type": "code",
   "execution_count": null,
   "metadata": {},
   "outputs": [],
   "source": []
  }
 ],
 "metadata": {
  "kernelspec": {
   "display_name": "Python 3.9.1 ('.torch': venv)",
   "language": "python",
   "name": "python3"
  },
  "language_info": {
   "name": "python",
   "version": "3.9.1"
  },
  "orig_nbformat": 4,
  "vscode": {
   "interpreter": {
    "hash": "3983e70aaa9444c660e30748ec2fe4982d091bd3ab117fbaed8c1091aa8277fd"
   }
  }
 },
 "nbformat": 4,
 "nbformat_minor": 2
}
