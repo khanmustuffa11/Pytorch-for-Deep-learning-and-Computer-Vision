{
 "cells": [
  {
   "cell_type": "code",
   "execution_count": 3,
   "id": "5b6ebedb",
   "metadata": {},
   "outputs": [
    {
     "name": "stdout",
     "output_type": "stream",
     "text": [
      "1.11.0+cu113\n",
      "True\n",
      "True\n"
     ]
    }
   ],
   "source": [
    "import torch\n",
    "import torch.nn as nn\n",
    "from math import ceil\n",
    "torch.cuda.empty_cache()\n",
    "print(torch.__version__)\n",
    "print(torch.cuda.is_available())\n",
    "print(torch.backends.cudnn.enabled)"
   ]
  },
  {
   "cell_type": "code",
   "execution_count": 4,
   "id": "4ab5ae16",
   "metadata": {},
   "outputs": [],
   "source": [
    "base_model = [\n",
    "   # expand_ratio, channels, repeats, stride, kernel_size\n",
    "   [1, 16, 1, 1, 3],\n",
    "   [6, 24, 2, 2, 3],\n",
    "   [6, 40, 2, 2, 5],\n",
    "   [6, 80, 3, 2, 3],\n",
    "   [6, 112, 3, 1, 5],\n",
    "   [6, 192, 4, 2, 5],\n",
    "   [6, 320, 1, 1, 3] \n",
    "]\n",
    "\n",
    "phi_values = {\n",
    "    # tuple pf: (phi_values, resolution, drop_rate)\n",
    "    \"b0\": (0, 224, 0.2), #alpha, beta, gamma, depth = alpha**phi\n",
    "    \"b1\": (0.5, 240, 0.2),\n",
    "    \"b2\": (1, 260, 0.3),\n",
    "    \"b3\": (2, 300, 0.3),\n",
    "    \"b4\": (3, 380, 0.4),\n",
    "    \"b5\": (4, 456, 0.4),\n",
    "    \"b6\": (5, 528, 0.5),\n",
    "    \"b7\": (6, 600, 0.5)\n",
    "}"
   ]
  },
  {
   "cell_type": "code",
   "execution_count": 5,
   "id": "afb6b13b",
   "metadata": {},
   "outputs": [],
   "source": [
    "class CNNBLOCK(nn.Module):\n",
    "    def __init__(\n",
    "        self, in_channels, out_channels, kernel_size, stride, padding, groups=1\n",
    "    ):\n",
    "\n",
    "        super(CNNBLOCK, self).__init__()\n",
    "        self.cnn = nn.Conv2d(\n",
    "            in_channels,\n",
    "            out_channels,\n",
    "            kernel_size,\n",
    "            stride,\n",
    "            padding,\n",
    "            groups=groups,\n",
    "            bias = False,\n",
    "            \n",
    "        )\n",
    "        self.bn = nn.BatchNorm2d(out_channels)\n",
    "        self.silu = nn.SiLU() # sigmoid linear unit\n",
    "    def forward(self, x):\n",
    "        return self.silu(self.bn(self.cnn(x)))"
   ]
  },
  {
   "cell_type": "code",
   "execution_count": null,
   "id": "d45e8d20",
   "metadata": {},
   "outputs": [],
   "source": [
    "class SqueezeExcitation(nn.Module):\n",
    "    def __init__(self, in_channel, reduced_dim):\n",
    "        super(SqueezeExcitation, self).__init()\n",
    "        self.se = nn.Sequential(\n",
    "            nn.AdaptiveAvgPool2d(1), # c * H * W -> C * 1 *1\n",
    "            nn.Conv2d(in_channels, reduced_dim, 1),\n",
    "            nn.SiLU(),\n",
    "            nn.Conv2s(in_channels, reduced_dim, 1),\n",
    "            nn.Sigmoid()\n",
    "        \n",
    "        \n",
    "        )\n",
    "    def forward(self, x):\n",
    "        return x * self.se(x)\n",
    "    \n",
    "    "
   ]
  },
  {
   "cell_type": "code",
   "execution_count": null,
   "id": "160d2396",
   "metadata": {},
   "outputs": [],
   "source": [
    "class InvertedResidualBlock(nn.Module):\n",
    "    def __init__(\n",
    "        self,\n",
    "        in_channels,\n",
    "        out_channels,\n",
    "        kernel_size,\n",
    "        stride,\n",
    "        padding,\n",
    "        expand_ratio,\n",
    "        reduction=4  # squeeze excitation\n",
    "        survival_prob = 0.8 # for stochastic depth\n",
    "        \n",
    "    ):\n",
    "        \n",
    "        super(InvertedResidualBlock, self).__init__()\n",
    "        self.survival_prob = 0.8\n",
    "        self.use_residual = in_channels == out_channels and stride ==1\n",
    "        hidden_dim = in_channels * expand_ratio\n",
    "        self.expand = in_channel != hidden_dim\n",
    "        reduced_dim = int(in_channels/reduction)\n",
    "        \n",
    "        if self.expand:\n",
    "            self.expand_conv = CNNBlock(\n",
    "                in_channels, hidden_dim, kernel_size = 3, stride = 1, padding  =1,\n",
    "            )\n",
    "        self.conv = nn.Sequential(\n",
    "            CNNBlock(\n",
    "            hidden_dim, hidden_dim, kernel_size, stride, padding, groups = hidden_dim,\n",
    "            ),\n",
    "            SqueezeExcitation(hidden_dim, reduced_dim),\n",
    "            nn.Conv2d(hidden_dim, out_channels, 1, bias = False),\n",
    "            nn.BtachNorm2d(out_channels),\n",
    "            \n",
    "        )\n",
    "    def stochastic_depth(self,x):\n",
    "        "
   ]
  }
 ],
 "metadata": {
  "kernelspec": {
   "display_name": "Python 3 (ipykernel)",
   "language": "python",
   "name": "python3"
  },
  "language_info": {
   "codemirror_mode": {
    "name": "ipython",
    "version": 3
   },
   "file_extension": ".py",
   "mimetype": "text/x-python",
   "name": "python",
   "nbconvert_exporter": "python",
   "pygments_lexer": "ipython3",
   "version": "3.9.12"
  }
 },
 "nbformat": 4,
 "nbformat_minor": 5
}
